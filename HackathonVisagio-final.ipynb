{
 "cells": [
  {
   "cell_type": "markdown",
   "metadata": {},
   "source": [
    "### import de bibliotecas"
   ]
  },
  {
   "cell_type": "code",
   "execution_count": 1,
   "metadata": {},
   "outputs": [
    {
     "name": "stderr",
     "output_type": "stream",
     "text": [
      "C:\\Anaconda\\lib\\site-packages\\gensim\\utils.py:1197: UserWarning: detected Windows; aliasing chunkize to chunkize_serial\n",
      "  warnings.warn(\"detected Windows; aliasing chunkize to chunkize_serial\")\n",
      "[nltk_data] Downloading package stopwords to\n",
      "[nltk_data]     C:\\Users\\sandr\\AppData\\Roaming\\nltk_data...\n",
      "[nltk_data]   Package stopwords is already up-to-date!\n"
     ]
    },
    {
     "data": {
      "text/plain": [
       "True"
      ]
     },
     "execution_count": 1,
     "metadata": {},
     "output_type": "execute_result"
    }
   ],
   "source": [
    "import numpy as np\n",
    "from sklearn.datasets import fetch_20newsgroups\n",
    "from sklearn.feature_extraction.text import TfidfVectorizer\n",
    "from sklearn.decomposition import NMF\n",
    "from gensim.models.doc2vec import Doc2Vec, TaggedDocument\n",
    "from gensim.models import Word2Vec\n",
    "from nltk.tokenize import word_tokenize\n",
    "import nltk\n",
    "nltk.download('stopwords')"
   ]
  },
  {
   "cell_type": "markdown",
   "metadata": {},
   "source": [
    "### extração dos tweets da base de dados do Aos Fatos"
   ]
  },
  {
   "cell_type": "code",
   "execution_count": 2,
   "metadata": {},
   "outputs": [],
   "source": [
    "import pandas as pd\n",
    "#df = pd.read_excel (r'Bases_VisagioHackathon\\Base_tweets_saúde_Aos_Fatos.xlsx')\n",
    "xls = pd.ExcelFile('Bases_VisagioHackathon\\Base_tweets_saúde_Aos_Fatos.xlsx')\n",
    "df1 = pd.read_excel(xls, 'mar-abr')\n",
    "data1 = df1[['id','tweet']].copy()\n",
    "df2 = pd.read_excel(xls, 'abr-mai')\n",
    "data2 = df2[['id','tweet']].copy()\n",
    "df3 = pd.read_excel(xls, 'mai-jun')\n",
    "data3 = df3[['id','tweet']].copy()\n",
    "df4 = pd.read_excel(xls, 'jun-jul')\n",
    "data4 = df4[['id','tweet']].copy()\n",
    "df5 = pd.read_excel(xls, 'jul-ago')\n",
    "data5 = df5[['id','tweet']].copy()\n",
    "df6 = pd.read_excel(xls, 'ago-set')\n",
    "data6 = df6[['id','tweet']].copy()\n",
    "\n",
    "tabs = [data1, data2, data3, data4, data5, data6]\n",
    "data = pd.concat(tabs)"
   ]
  },
  {
   "cell_type": "markdown",
   "metadata": {},
   "source": [
    "### tratamento dos tweets recebidos\n",
    "1) retirada de pontuações e \"stop words\" das frases <br>\n",
    "2) separação de cada uma das palavras do tweet"
   ]
  },
  {
   "cell_type": "code",
   "execution_count": 3,
   "metadata": {},
   "outputs": [],
   "source": [
    "stopwords = nltk.corpus.stopwords.words('portuguese')\n",
    "\n",
    "#print(len(data))\n",
    "\n",
    "data_filtrada = pd.DataFrame(columns = ['id','tweet'])\n",
    "#print(data_filtrada)\n",
    "\n",
    "for i in range(len(data)):\n",
    "    frase_original = data.iloc[i,1].replace(',', ' ').replace('.', ' ').replace(':', ' ').replace('-', ' ').lower()\n",
    "    #print(frase_original)\n",
    "    frase_filtrada = ''\n",
    "    for palavra in frase_original.split():\n",
    "        if palavra not in stopwords:\n",
    "            frase_filtrada += (palavra  + ' ')\n",
    "    #print(frase_filtrada)\n",
    "    data_filtrada = data_filtrada.append({'id': data.iloc[i,0], 'tweet': frase_filtrada}, ignore_index=True)\n",
    "    \n",
    "#print(word_tokenize(data_filtrada.iloc[0,1]))\n",
    "len_data = len(data_filtrada)\n",
    "\n",
    "#tagged_data = [TaggedDocument(words=(word_tokenize(data_filtrada.iloc[i,1])), tags=[str(i)]) for i in range(len_data)]\n",
    "new_tagged_data = [(word_tokenize(data_filtrada.iloc[i,1])) for i in range(len_data)]"
   ]
  },
  {
   "cell_type": "markdown",
   "metadata": {},
   "source": [
    "### criação do modelo referente ao word embedding em Língua Portuguesa disponibilizado pelo NILC\n",
    "http://nilc.icmc.usp.br/nilc/index.php/repositorio-de-word-embeddings-do-nilc"
   ]
  },
  {
   "cell_type": "code",
   "execution_count": 4,
   "metadata": {},
   "outputs": [],
   "source": [
    "from gensim.models import KeyedVectors\n",
    "model = KeyedVectors.load_word2vec_format('cbow_s50.txt')"
   ]
  },
  {
   "cell_type": "code",
   "execution_count": 5,
   "metadata": {},
   "outputs": [
    {
     "data": {
      "text/plain": [
       "(22050961, 27472500)"
      ]
     },
     "execution_count": 5,
     "metadata": {},
     "output_type": "execute_result"
    }
   ],
   "source": [
    "model_saude = Word2Vec(new_tagged_data, size=50, window=10, min_count=2, workers=10)\n",
    "model_saude.train(new_tagged_data,total_examples=len(new_tagged_data),epochs=100)"
   ]
  },
  {
   "cell_type": "markdown",
   "metadata": {},
   "source": [
    "### tópicos relacionados à entrada de busca feita pelo usuário\n",
    "- são analisados possíveis tópicos gerados a partir de dois modelos: o de tweets (com mais termos voltados à saúde), e o do NILC"
   ]
  },
  {
   "cell_type": "code",
   "execution_count": 6,
   "metadata": {},
   "outputs": [],
   "source": [
    "def find_topics(phrase, model_saude, model):\n",
    "    topics = []\n",
    "    #print(phrase)\n",
    "    phrase = phrase.replace(',', ' ').replace('.', ' ').replace(':', ' ').replace('-', ' ').lower()\n",
    "    #print(phrase)\n",
    "    frase_filtrada = ''\n",
    "    \n",
    "    for palavra in phrase.split():\n",
    "        if palavra not in stopwords:\n",
    "            frase_filtrada += (palavra  + ' ')\n",
    "    new_phrase = (word_tokenize(frase_filtrada))\n",
    "    #print(new_phrase)\n",
    "    \n",
    "    try:\n",
    "        topics.append(model.wv.most_similar(positive=new_phrase, topn=3))\n",
    "        #print(topics)\n",
    "    except KeyError:\n",
    "        print(\"sem vocabulario correspondente\")\n",
    "        \n",
    "    try:\n",
    "        topics.append(model_saude.wv.most_similar(positive=new_phrase, topn=3))\n",
    "    except KeyError:\n",
    "        print(\"sem vocabulario em saude correspondente\")\n",
    "    \n",
    "    return topics"
   ]
  },
  {
   "cell_type": "code",
   "execution_count": 7,
   "metadata": {},
   "outputs": [
    {
     "name": "stderr",
     "output_type": "stream",
     "text": [
      "C:\\Anaconda\\lib\\site-packages\\ipykernel_launcher.py:15: DeprecationWarning: Call to deprecated `wv` (Attribute will be removed in 4.0.0, use self instead).\n",
      "  from ipykernel import kernelapp as app\n"
     ]
    },
    {
     "name": "stdout",
     "output_type": "stream",
     "text": [
      "sem vocabulario correspondente\n",
      "[[('doença', 0.5649859309196472), ('todos', 0.4938358664512634), ('hidroxicloroquina', 0.4792617857456207)]]\n"
     ]
    }
   ],
   "source": [
    "print(find_topics(\"covid\", model_saude, model))"
   ]
  },
  {
   "cell_type": "code",
   "execution_count": null,
   "metadata": {},
   "outputs": [],
   "source": []
  }
 ],
 "metadata": {
  "kernelspec": {
   "display_name": "Python (base)",
   "language": "python",
   "name": "base"
  },
  "language_info": {
   "codemirror_mode": {
    "name": "ipython",
    "version": 3
   },
   "file_extension": ".py",
   "mimetype": "text/x-python",
   "name": "python",
   "nbconvert_exporter": "python",
   "pygments_lexer": "ipython3",
   "version": "3.7.1"
  }
 },
 "nbformat": 4,
 "nbformat_minor": 2
}
